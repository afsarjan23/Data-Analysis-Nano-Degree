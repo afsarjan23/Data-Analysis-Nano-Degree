{
 "cells": [
  {
   "cell_type": "markdown",
   "metadata": {},
   "source": [
    "\n",
    "\n",
    "# Project: Investigate TMDb movie dataset\n",
    "\n",
    "\n",
    "## Table of Contents\n",
    "<ul>\n",
    "<li><a href=\"#intro\">Introduction</a></li>\n",
    "<li><a href=\"#wrangling\">Data Wrangling</a></li>\n",
    "<li><a href=\"#eda\">Exploratory Data Analysis</a></li>\n",
    "<li><a href=\"#conclusions\">Conclusions</a></li>\n",
    "</ul>"
   ]
  },
  {
   "cell_type": "markdown",
   "metadata": {},
   "source": [
    "<a id='intro'></a>\n",
    "## Introduction\n",
    "\n",
    " I will be analyzing TMDb movie dataset and figure out what are the genre trends over the years? Also I be answering following questions.\n",
    " 1. What is the Average Revenue Trend by genres? Which Genre has the most average revenue and which has least?\n",
    " 2. What is the rating trends of Genres?\n",
    " 3. What are the highest budgeted Genres on average?\n",
    " 4. what genre is most popular?\n",
    " 5. Is their a correlation between budget and popularity, if yes is it positive or negative and how strong is the correlation?\n",
    " 6. Do movies with huge budget have more ratings than the movies with less budget?\n",
    " \n",
    "The data set has 21 columns and 10866 rows, which includes movie budget, revenues, popularity, ratings etc. Lets explore data and dig into analysis thereafter. \n"
   ]
  },
  {
   "cell_type": "code",
   "execution_count": 1,
   "metadata": {},
   "outputs": [],
   "source": [
    "# importing packages \n",
    "import pandas as pd\n",
    "import numpy as np\n",
    "import matplotlib.pyplot as plt\n",
    "%matplotlib inline\n",
    "pd.options.display.float_format = '{:.2f}'.format"
   ]
  },
  {
   "cell_type": "markdown",
   "metadata": {},
   "source": [
    "<a id='wrangling'></a>\n",
    "## Data Wrangling\n",
    "\n",
    "### General Properties\n",
    "\n",
    "In this section, we will load data and perform following actions\n",
    " - Loading data\n",
    " - Check for missing values\n",
    " - Drop Extraneous Columns\n",
    " - Check duplicate rows, \n",
    " - drop duplicate rows and extraneous columns\n",
    " - Check data types of each column and convert them to desired data types\n",
    " - Uniques Values count\n",
    " - handling multivalues"
   ]
  },
  {
   "cell_type": "markdown",
   "metadata": {},
   "source": [
    "**Loading Data**"
   ]
  },
  {
   "cell_type": "code",
   "execution_count": 2,
   "metadata": {},
   "outputs": [
    {
     "data": {
      "text/html": [
       "<div>\n",
       "<style scoped>\n",
       "    .dataframe tbody tr th:only-of-type {\n",
       "        vertical-align: middle;\n",
       "    }\n",
       "\n",
       "    .dataframe tbody tr th {\n",
       "        vertical-align: top;\n",
       "    }\n",
       "\n",
       "    .dataframe thead th {\n",
       "        text-align: right;\n",
       "    }\n",
       "</style>\n",
       "<table border=\"1\" class=\"dataframe\">\n",
       "  <thead>\n",
       "    <tr style=\"text-align: right;\">\n",
       "      <th></th>\n",
       "      <th>id</th>\n",
       "      <th>imdb_id</th>\n",
       "      <th>popularity</th>\n",
       "      <th>budget</th>\n",
       "      <th>revenue</th>\n",
       "      <th>original_title</th>\n",
       "      <th>cast</th>\n",
       "      <th>homepage</th>\n",
       "      <th>director</th>\n",
       "      <th>tagline</th>\n",
       "      <th>...</th>\n",
       "      <th>overview</th>\n",
       "      <th>runtime</th>\n",
       "      <th>genres</th>\n",
       "      <th>production_companies</th>\n",
       "      <th>release_date</th>\n",
       "      <th>vote_count</th>\n",
       "      <th>vote_average</th>\n",
       "      <th>release_year</th>\n",
       "      <th>budget_adj</th>\n",
       "      <th>revenue_adj</th>\n",
       "    </tr>\n",
       "  </thead>\n",
       "  <tbody>\n",
       "    <tr>\n",
       "      <td>0</td>\n",
       "      <td>135397</td>\n",
       "      <td>tt0369610</td>\n",
       "      <td>32.99</td>\n",
       "      <td>150000000</td>\n",
       "      <td>1513528810</td>\n",
       "      <td>Jurassic World</td>\n",
       "      <td>Chris Pratt|Bryce Dallas Howard|Irrfan Khan|Vi...</td>\n",
       "      <td>http://www.jurassicworld.com/</td>\n",
       "      <td>Colin Trevorrow</td>\n",
       "      <td>The park is open.</td>\n",
       "      <td>...</td>\n",
       "      <td>Twenty-two years after the events of Jurassic ...</td>\n",
       "      <td>124</td>\n",
       "      <td>Action|Adventure|Science Fiction|Thriller</td>\n",
       "      <td>Universal Studios|Amblin Entertainment|Legenda...</td>\n",
       "      <td>6/9/15</td>\n",
       "      <td>5562</td>\n",
       "      <td>6.50</td>\n",
       "      <td>2015</td>\n",
       "      <td>137999939.28</td>\n",
       "      <td>1392445892.52</td>\n",
       "    </tr>\n",
       "    <tr>\n",
       "      <td>1</td>\n",
       "      <td>76341</td>\n",
       "      <td>tt1392190</td>\n",
       "      <td>28.42</td>\n",
       "      <td>150000000</td>\n",
       "      <td>378436354</td>\n",
       "      <td>Mad Max: Fury Road</td>\n",
       "      <td>Tom Hardy|Charlize Theron|Hugh Keays-Byrne|Nic...</td>\n",
       "      <td>http://www.madmaxmovie.com/</td>\n",
       "      <td>George Miller</td>\n",
       "      <td>What a Lovely Day.</td>\n",
       "      <td>...</td>\n",
       "      <td>An apocalyptic story set in the furthest reach...</td>\n",
       "      <td>120</td>\n",
       "      <td>Action|Adventure|Science Fiction|Thriller</td>\n",
       "      <td>Village Roadshow Pictures|Kennedy Miller Produ...</td>\n",
       "      <td>5/13/15</td>\n",
       "      <td>6185</td>\n",
       "      <td>7.10</td>\n",
       "      <td>2015</td>\n",
       "      <td>137999939.28</td>\n",
       "      <td>348161292.49</td>\n",
       "    </tr>\n",
       "    <tr>\n",
       "      <td>2</td>\n",
       "      <td>262500</td>\n",
       "      <td>tt2908446</td>\n",
       "      <td>13.11</td>\n",
       "      <td>110000000</td>\n",
       "      <td>295238201</td>\n",
       "      <td>Insurgent</td>\n",
       "      <td>Shailene Woodley|Theo James|Kate Winslet|Ansel...</td>\n",
       "      <td>http://www.thedivergentseries.movie/#insurgent</td>\n",
       "      <td>Robert Schwentke</td>\n",
       "      <td>One Choice Can Destroy You</td>\n",
       "      <td>...</td>\n",
       "      <td>Beatrice Prior must confront her inner demons ...</td>\n",
       "      <td>119</td>\n",
       "      <td>Adventure|Science Fiction|Thriller</td>\n",
       "      <td>Summit Entertainment|Mandeville Films|Red Wago...</td>\n",
       "      <td>3/18/15</td>\n",
       "      <td>2480</td>\n",
       "      <td>6.30</td>\n",
       "      <td>2015</td>\n",
       "      <td>101199955.47</td>\n",
       "      <td>271619025.41</td>\n",
       "    </tr>\n",
       "    <tr>\n",
       "      <td>3</td>\n",
       "      <td>140607</td>\n",
       "      <td>tt2488496</td>\n",
       "      <td>11.17</td>\n",
       "      <td>200000000</td>\n",
       "      <td>2068178225</td>\n",
       "      <td>Star Wars: The Force Awakens</td>\n",
       "      <td>Harrison Ford|Mark Hamill|Carrie Fisher|Adam D...</td>\n",
       "      <td>http://www.starwars.com/films/star-wars-episod...</td>\n",
       "      <td>J.J. Abrams</td>\n",
       "      <td>Every generation has a story.</td>\n",
       "      <td>...</td>\n",
       "      <td>Thirty years after defeating the Galactic Empi...</td>\n",
       "      <td>136</td>\n",
       "      <td>Action|Adventure|Science Fiction|Fantasy</td>\n",
       "      <td>Lucasfilm|Truenorth Productions|Bad Robot</td>\n",
       "      <td>12/15/15</td>\n",
       "      <td>5292</td>\n",
       "      <td>7.50</td>\n",
       "      <td>2015</td>\n",
       "      <td>183999919.04</td>\n",
       "      <td>1902723129.80</td>\n",
       "    </tr>\n",
       "    <tr>\n",
       "      <td>4</td>\n",
       "      <td>168259</td>\n",
       "      <td>tt2820852</td>\n",
       "      <td>9.34</td>\n",
       "      <td>190000000</td>\n",
       "      <td>1506249360</td>\n",
       "      <td>Furious 7</td>\n",
       "      <td>Vin Diesel|Paul Walker|Jason Statham|Michelle ...</td>\n",
       "      <td>http://www.furious7.com/</td>\n",
       "      <td>James Wan</td>\n",
       "      <td>Vengeance Hits Home</td>\n",
       "      <td>...</td>\n",
       "      <td>Deckard Shaw seeks revenge against Dominic Tor...</td>\n",
       "      <td>137</td>\n",
       "      <td>Action|Crime|Thriller</td>\n",
       "      <td>Universal Pictures|Original Film|Media Rights ...</td>\n",
       "      <td>4/1/15</td>\n",
       "      <td>2947</td>\n",
       "      <td>7.30</td>\n",
       "      <td>2015</td>\n",
       "      <td>174799923.09</td>\n",
       "      <td>1385748801.47</td>\n",
       "    </tr>\n",
       "  </tbody>\n",
       "</table>\n",
       "<p>5 rows × 21 columns</p>\n",
       "</div>"
      ],
      "text/plain": [
       "       id    imdb_id  popularity     budget     revenue  \\\n",
       "0  135397  tt0369610       32.99  150000000  1513528810   \n",
       "1   76341  tt1392190       28.42  150000000   378436354   \n",
       "2  262500  tt2908446       13.11  110000000   295238201   \n",
       "3  140607  tt2488496       11.17  200000000  2068178225   \n",
       "4  168259  tt2820852        9.34  190000000  1506249360   \n",
       "\n",
       "                 original_title  \\\n",
       "0                Jurassic World   \n",
       "1            Mad Max: Fury Road   \n",
       "2                     Insurgent   \n",
       "3  Star Wars: The Force Awakens   \n",
       "4                     Furious 7   \n",
       "\n",
       "                                                cast  \\\n",
       "0  Chris Pratt|Bryce Dallas Howard|Irrfan Khan|Vi...   \n",
       "1  Tom Hardy|Charlize Theron|Hugh Keays-Byrne|Nic...   \n",
       "2  Shailene Woodley|Theo James|Kate Winslet|Ansel...   \n",
       "3  Harrison Ford|Mark Hamill|Carrie Fisher|Adam D...   \n",
       "4  Vin Diesel|Paul Walker|Jason Statham|Michelle ...   \n",
       "\n",
       "                                            homepage          director  \\\n",
       "0                      http://www.jurassicworld.com/   Colin Trevorrow   \n",
       "1                        http://www.madmaxmovie.com/     George Miller   \n",
       "2     http://www.thedivergentseries.movie/#insurgent  Robert Schwentke   \n",
       "3  http://www.starwars.com/films/star-wars-episod...       J.J. Abrams   \n",
       "4                           http://www.furious7.com/         James Wan   \n",
       "\n",
       "                         tagline  ...  \\\n",
       "0              The park is open.  ...   \n",
       "1             What a Lovely Day.  ...   \n",
       "2     One Choice Can Destroy You  ...   \n",
       "3  Every generation has a story.  ...   \n",
       "4            Vengeance Hits Home  ...   \n",
       "\n",
       "                                            overview runtime  \\\n",
       "0  Twenty-two years after the events of Jurassic ...     124   \n",
       "1  An apocalyptic story set in the furthest reach...     120   \n",
       "2  Beatrice Prior must confront her inner demons ...     119   \n",
       "3  Thirty years after defeating the Galactic Empi...     136   \n",
       "4  Deckard Shaw seeks revenge against Dominic Tor...     137   \n",
       "\n",
       "                                      genres  \\\n",
       "0  Action|Adventure|Science Fiction|Thriller   \n",
       "1  Action|Adventure|Science Fiction|Thriller   \n",
       "2         Adventure|Science Fiction|Thriller   \n",
       "3   Action|Adventure|Science Fiction|Fantasy   \n",
       "4                      Action|Crime|Thriller   \n",
       "\n",
       "                                production_companies release_date vote_count  \\\n",
       "0  Universal Studios|Amblin Entertainment|Legenda...       6/9/15       5562   \n",
       "1  Village Roadshow Pictures|Kennedy Miller Produ...      5/13/15       6185   \n",
       "2  Summit Entertainment|Mandeville Films|Red Wago...      3/18/15       2480   \n",
       "3          Lucasfilm|Truenorth Productions|Bad Robot     12/15/15       5292   \n",
       "4  Universal Pictures|Original Film|Media Rights ...       4/1/15       2947   \n",
       "\n",
       "   vote_average  release_year   budget_adj   revenue_adj  \n",
       "0          6.50          2015 137999939.28 1392445892.52  \n",
       "1          7.10          2015 137999939.28  348161292.49  \n",
       "2          6.30          2015 101199955.47  271619025.41  \n",
       "3          7.50          2015 183999919.04 1902723129.80  \n",
       "4          7.30          2015 174799923.09 1385748801.47  \n",
       "\n",
       "[5 rows x 21 columns]"
      ]
     },
     "execution_count": 2,
     "metadata": {},
     "output_type": "execute_result"
    }
   ],
   "source": [
    "#Loading Data\n",
    "df_tmbd = pd.read_csv(\"tmdb-movies.csv\")\n",
    "df_tmbd.head()"
   ]
  },
  {
   "cell_type": "markdown",
   "metadata": {},
   "source": [
    "\n",
    "**Check for the missing**"
   ]
  },
  {
   "cell_type": "code",
   "execution_count": 3,
   "metadata": {},
   "outputs": [
    {
     "data": {
      "text/plain": [
       "id                         0\n",
       "imdb_id                   10\n",
       "popularity                 0\n",
       "budget                     0\n",
       "revenue                    0\n",
       "original_title             0\n",
       "cast                      76\n",
       "homepage                7930\n",
       "director                  44\n",
       "tagline                 2824\n",
       "keywords                1493\n",
       "overview                   4\n",
       "runtime                    0\n",
       "genres                    23\n",
       "production_companies    1030\n",
       "release_date               0\n",
       "vote_count                 0\n",
       "vote_average               0\n",
       "release_year               0\n",
       "budget_adj                 0\n",
       "revenue_adj                0\n",
       "dtype: int64"
      ]
     },
     "execution_count": 3,
     "metadata": {},
     "output_type": "execute_result"
    }
   ],
   "source": [
    "df_tmbd.isnull().sum()"
   ]
  },
  {
   "cell_type": "markdown",
   "metadata": {},
   "source": [
    "**Following Columns have missing values**\n",
    " - imdb_id\n",
    " - cast\n",
    " - homepage\n",
    " - director\n",
    " - tagline\n",
    " - keywords\n",
    " - overview\n",
    " - genres\n",
    " - production_companies\n",
    " \n",
    "Since above columns have missing values and most of them are extraneous for my data analysis and I will not be using them in any data analysis ahead. That's why I will drop all extraneous columns including above mentioned columns except for __genres__ column. __genres__ column has only 23 missing valuse and it will be used in data analysis that's why I will only drop the rows having those missing values."
   ]
  },
  {
   "cell_type": "markdown",
   "metadata": {},
   "source": [
    "**Droping extraneous columns**"
   ]
  },
  {
   "cell_type": "code",
   "execution_count": 4,
   "metadata": {},
   "outputs": [],
   "source": [
    "df_tmbd.drop(['id','original_title','imdb_id','cast','homepage','director','overview','tagline','keywords','production_companies'], axis = 1, inplace = True)"
   ]
  },
  {
   "cell_type": "code",
   "execution_count": 5,
   "metadata": {},
   "outputs": [
    {
     "data": {
      "text/plain": [
       "popularity       0\n",
       "budget           0\n",
       "revenue          0\n",
       "runtime          0\n",
       "genres          23\n",
       "release_date     0\n",
       "vote_count       0\n",
       "vote_average     0\n",
       "release_year     0\n",
       "budget_adj       0\n",
       "revenue_adj      0\n",
       "dtype: int64"
      ]
     },
     "execution_count": 5,
     "metadata": {},
     "output_type": "execute_result"
    }
   ],
   "source": [
    "df_tmbd.isnull().sum()"
   ]
  },
  {
   "cell_type": "markdown",
   "metadata": {},
   "source": [
    "**Drop rows containing missing values in genres column**"
   ]
  },
  {
   "cell_type": "code",
   "execution_count": 6,
   "metadata": {},
   "outputs": [],
   "source": [
    "df_tmbd.dropna(inplace=True, axis = 0)"
   ]
  },
  {
   "cell_type": "code",
   "execution_count": 7,
   "metadata": {},
   "outputs": [
    {
     "data": {
      "text/plain": [
       "popularity      0\n",
       "budget          0\n",
       "revenue         0\n",
       "runtime         0\n",
       "genres          0\n",
       "release_date    0\n",
       "vote_count      0\n",
       "vote_average    0\n",
       "release_year    0\n",
       "budget_adj      0\n",
       "revenue_adj     0\n",
       "dtype: int64"
      ]
     },
     "execution_count": 7,
     "metadata": {},
     "output_type": "execute_result"
    }
   ],
   "source": [
    "df_tmbd.isnull().sum()"
   ]
  },
  {
   "cell_type": "markdown",
   "metadata": {},
   "source": [
    "**Number of duplicate rows**"
   ]
  },
  {
   "cell_type": "code",
   "execution_count": 8,
   "metadata": {},
   "outputs": [
    {
     "data": {
      "text/plain": [
       "1"
      ]
     },
     "execution_count": 8,
     "metadata": {},
     "output_type": "execute_result"
    }
   ],
   "source": [
    "df_tmbd.duplicated().sum()"
   ]
  },
  {
   "cell_type": "markdown",
   "metadata": {},
   "source": [
    "**drop duplicates**"
   ]
  },
  {
   "cell_type": "code",
   "execution_count": 9,
   "metadata": {},
   "outputs": [
    {
     "data": {
      "text/plain": [
       "0"
      ]
     },
     "execution_count": 9,
     "metadata": {},
     "output_type": "execute_result"
    }
   ],
   "source": [
    "df_tmbd.drop_duplicates(inplace = True)\n",
    "\n",
    "# Number of duplicate rows\n",
    "df_tmbd.duplicated().sum()"
   ]
  },
  {
   "cell_type": "markdown",
   "metadata": {},
   "source": [
    "**check data types**"
   ]
  },
  {
   "cell_type": "code",
   "execution_count": 10,
   "metadata": {},
   "outputs": [
    {
     "name": "stdout",
     "output_type": "stream",
     "text": [
      "<class 'pandas.core.frame.DataFrame'>\n",
      "Int64Index: 10842 entries, 0 to 10865\n",
      "Data columns (total 11 columns):\n",
      "popularity      10842 non-null float64\n",
      "budget          10842 non-null int64\n",
      "revenue         10842 non-null int64\n",
      "runtime         10842 non-null int64\n",
      "genres          10842 non-null object\n",
      "release_date    10842 non-null object\n",
      "vote_count      10842 non-null int64\n",
      "vote_average    10842 non-null float64\n",
      "release_year    10842 non-null int64\n",
      "budget_adj      10842 non-null float64\n",
      "revenue_adj     10842 non-null float64\n",
      "dtypes: float64(4), int64(5), object(2)\n",
      "memory usage: 1016.4+ KB\n"
     ]
    }
   ],
   "source": [
    "df_tmbd.info()"
   ]
  },
  {
   "cell_type": "markdown",
   "metadata": {},
   "source": [
    "**convert data types**"
   ]
  },
  {
   "cell_type": "code",
   "execution_count": 11,
   "metadata": {},
   "outputs": [
    {
     "data": {
      "text/plain": [
       "dtype('<M8[ns]')"
      ]
     },
     "execution_count": 11,
     "metadata": {},
     "output_type": "execute_result"
    }
   ],
   "source": [
    "#Converting Release_date to datetime format\n",
    "df_tmbd['release_date'] = pd.to_datetime(df_tmbd['release_date'], format = '%m/%d/%y')\n",
    "df_tmbd.release_date.dtype"
   ]
  },
  {
   "cell_type": "code",
   "execution_count": 12,
   "metadata": {},
   "outputs": [
    {
     "name": "stdout",
     "output_type": "stream",
     "text": [
      "<class 'pandas.core.frame.DataFrame'>\n",
      "Int64Index: 10842 entries, 0 to 10865\n",
      "Data columns (total 11 columns):\n",
      "popularity      10842 non-null float64\n",
      "budget          10842 non-null int64\n",
      "revenue         10842 non-null int64\n",
      "runtime         10842 non-null int64\n",
      "genres          10842 non-null object\n",
      "release_date    10842 non-null datetime64[ns]\n",
      "vote_count      10842 non-null int64\n",
      "vote_average    10842 non-null float64\n",
      "release_year    10842 non-null int64\n",
      "budget_adj      10842 non-null int32\n",
      "revenue_adj     10842 non-null float64\n",
      "dtypes: datetime64[ns](1), float64(3), int32(1), int64(5), object(1)\n",
      "memory usage: 974.1+ KB\n"
     ]
    },
    {
     "data": {
      "text/plain": [
       "0"
      ]
     },
     "execution_count": 12,
     "metadata": {},
     "output_type": "execute_result"
    }
   ],
   "source": [
    "df_tmbd['budget_adj'] = df_tmbd['budget_adj'].astype(int)\n",
    "df_tmbd['budget_adj'] = df_tmbd['revenue_adj'].astype(int)\n",
    "df_tmbd.info()\n",
    "df_tmbd.revenue.min()"
   ]
  },
  {
   "cell_type": "code",
   "execution_count": 13,
   "metadata": {},
   "outputs": [
    {
     "data": {
      "text/html": [
       "<div>\n",
       "<style scoped>\n",
       "    .dataframe tbody tr th:only-of-type {\n",
       "        vertical-align: middle;\n",
       "    }\n",
       "\n",
       "    .dataframe tbody tr th {\n",
       "        vertical-align: top;\n",
       "    }\n",
       "\n",
       "    .dataframe thead th {\n",
       "        text-align: right;\n",
       "    }\n",
       "</style>\n",
       "<table border=\"1\" class=\"dataframe\">\n",
       "  <thead>\n",
       "    <tr style=\"text-align: right;\">\n",
       "      <th></th>\n",
       "      <th>popularity</th>\n",
       "      <th>budget</th>\n",
       "      <th>revenue</th>\n",
       "      <th>runtime</th>\n",
       "      <th>genres</th>\n",
       "      <th>release_date</th>\n",
       "      <th>vote_count</th>\n",
       "      <th>vote_average</th>\n",
       "      <th>release_year</th>\n",
       "      <th>budget_adj</th>\n",
       "      <th>revenue_adj</th>\n",
       "    </tr>\n",
       "  </thead>\n",
       "  <tbody>\n",
       "    <tr>\n",
       "      <td>0</td>\n",
       "      <td>32.99</td>\n",
       "      <td>150000000</td>\n",
       "      <td>1513528810</td>\n",
       "      <td>124</td>\n",
       "      <td>Action|Adventure|Science Fiction|Thriller</td>\n",
       "      <td>2015-06-09</td>\n",
       "      <td>5562</td>\n",
       "      <td>6.50</td>\n",
       "      <td>2015</td>\n",
       "      <td>1392445892</td>\n",
       "      <td>1392445892.52</td>\n",
       "    </tr>\n",
       "    <tr>\n",
       "      <td>1</td>\n",
       "      <td>28.42</td>\n",
       "      <td>150000000</td>\n",
       "      <td>378436354</td>\n",
       "      <td>120</td>\n",
       "      <td>Action|Adventure|Science Fiction|Thriller</td>\n",
       "      <td>2015-05-13</td>\n",
       "      <td>6185</td>\n",
       "      <td>7.10</td>\n",
       "      <td>2015</td>\n",
       "      <td>348161292</td>\n",
       "      <td>348161292.49</td>\n",
       "    </tr>\n",
       "    <tr>\n",
       "      <td>2</td>\n",
       "      <td>13.11</td>\n",
       "      <td>110000000</td>\n",
       "      <td>295238201</td>\n",
       "      <td>119</td>\n",
       "      <td>Adventure|Science Fiction|Thriller</td>\n",
       "      <td>2015-03-18</td>\n",
       "      <td>2480</td>\n",
       "      <td>6.30</td>\n",
       "      <td>2015</td>\n",
       "      <td>271619025</td>\n",
       "      <td>271619025.41</td>\n",
       "    </tr>\n",
       "    <tr>\n",
       "      <td>3</td>\n",
       "      <td>11.17</td>\n",
       "      <td>200000000</td>\n",
       "      <td>2068178225</td>\n",
       "      <td>136</td>\n",
       "      <td>Action|Adventure|Science Fiction|Fantasy</td>\n",
       "      <td>2015-12-15</td>\n",
       "      <td>5292</td>\n",
       "      <td>7.50</td>\n",
       "      <td>2015</td>\n",
       "      <td>1902723129</td>\n",
       "      <td>1902723129.80</td>\n",
       "    </tr>\n",
       "    <tr>\n",
       "      <td>4</td>\n",
       "      <td>9.34</td>\n",
       "      <td>190000000</td>\n",
       "      <td>1506249360</td>\n",
       "      <td>137</td>\n",
       "      <td>Action|Crime|Thriller</td>\n",
       "      <td>2015-04-01</td>\n",
       "      <td>2947</td>\n",
       "      <td>7.30</td>\n",
       "      <td>2015</td>\n",
       "      <td>1385748801</td>\n",
       "      <td>1385748801.47</td>\n",
       "    </tr>\n",
       "  </tbody>\n",
       "</table>\n",
       "</div>"
      ],
      "text/plain": [
       "   popularity     budget     revenue  runtime  \\\n",
       "0       32.99  150000000  1513528810      124   \n",
       "1       28.42  150000000   378436354      120   \n",
       "2       13.11  110000000   295238201      119   \n",
       "3       11.17  200000000  2068178225      136   \n",
       "4        9.34  190000000  1506249360      137   \n",
       "\n",
       "                                      genres release_date  vote_count  \\\n",
       "0  Action|Adventure|Science Fiction|Thriller   2015-06-09        5562   \n",
       "1  Action|Adventure|Science Fiction|Thriller   2015-05-13        6185   \n",
       "2         Adventure|Science Fiction|Thriller   2015-03-18        2480   \n",
       "3   Action|Adventure|Science Fiction|Fantasy   2015-12-15        5292   \n",
       "4                      Action|Crime|Thriller   2015-04-01        2947   \n",
       "\n",
       "   vote_average  release_year  budget_adj   revenue_adj  \n",
       "0          6.50          2015  1392445892 1392445892.52  \n",
       "1          7.10          2015   348161292  348161292.49  \n",
       "2          6.30          2015   271619025  271619025.41  \n",
       "3          7.50          2015  1902723129 1902723129.80  \n",
       "4          7.30          2015  1385748801 1385748801.47  "
      ]
     },
     "execution_count": 13,
     "metadata": {},
     "output_type": "execute_result"
    }
   ],
   "source": [
    "df_tmbd.head()"
   ]
  },
  {
   "cell_type": "markdown",
   "metadata": {},
   "source": [
    "### Descriptive Statistics"
   ]
  },
  {
   "cell_type": "code",
   "execution_count": 14,
   "metadata": {},
   "outputs": [
    {
     "data": {
      "text/html": [
       "<div>\n",
       "<style scoped>\n",
       "    .dataframe tbody tr th:only-of-type {\n",
       "        vertical-align: middle;\n",
       "    }\n",
       "\n",
       "    .dataframe tbody tr th {\n",
       "        vertical-align: top;\n",
       "    }\n",
       "\n",
       "    .dataframe thead th {\n",
       "        text-align: right;\n",
       "    }\n",
       "</style>\n",
       "<table border=\"1\" class=\"dataframe\">\n",
       "  <thead>\n",
       "    <tr style=\"text-align: right;\">\n",
       "      <th></th>\n",
       "      <th>popularity</th>\n",
       "      <th>budget</th>\n",
       "      <th>revenue</th>\n",
       "      <th>runtime</th>\n",
       "      <th>vote_count</th>\n",
       "      <th>vote_average</th>\n",
       "      <th>release_year</th>\n",
       "      <th>budget_adj</th>\n",
       "      <th>revenue_adj</th>\n",
       "    </tr>\n",
       "  </thead>\n",
       "  <tbody>\n",
       "    <tr>\n",
       "      <td>count</td>\n",
       "      <td>10842.00</td>\n",
       "      <td>10842.00</td>\n",
       "      <td>10842.00</td>\n",
       "      <td>10842.00</td>\n",
       "      <td>10842.00</td>\n",
       "      <td>10842.00</td>\n",
       "      <td>10842.00</td>\n",
       "      <td>10842.00</td>\n",
       "      <td>10842.00</td>\n",
       "    </tr>\n",
       "    <tr>\n",
       "      <td>mean</td>\n",
       "      <td>0.65</td>\n",
       "      <td>14655309.27</td>\n",
       "      <td>39911384.05</td>\n",
       "      <td>102.14</td>\n",
       "      <td>217.82</td>\n",
       "      <td>5.97</td>\n",
       "      <td>2001.31</td>\n",
       "      <td>49736552.35</td>\n",
       "      <td>51477974.92</td>\n",
       "    </tr>\n",
       "    <tr>\n",
       "      <td>std</td>\n",
       "      <td>1.00</td>\n",
       "      <td>30939713.61</td>\n",
       "      <td>117117936.32</td>\n",
       "      <td>31.29</td>\n",
       "      <td>576.18</td>\n",
       "      <td>0.93</td>\n",
       "      <td>12.81</td>\n",
       "      <td>142719893.49</td>\n",
       "      <td>144772307.64</td>\n",
       "    </tr>\n",
       "    <tr>\n",
       "      <td>min</td>\n",
       "      <td>0.00</td>\n",
       "      <td>0.00</td>\n",
       "      <td>0.00</td>\n",
       "      <td>0.00</td>\n",
       "      <td>10.00</td>\n",
       "      <td>1.50</td>\n",
       "      <td>1960.00</td>\n",
       "      <td>-2147483648.00</td>\n",
       "      <td>0.00</td>\n",
       "    </tr>\n",
       "    <tr>\n",
       "      <td>25%</td>\n",
       "      <td>0.21</td>\n",
       "      <td>0.00</td>\n",
       "      <td>0.00</td>\n",
       "      <td>90.00</td>\n",
       "      <td>17.00</td>\n",
       "      <td>5.40</td>\n",
       "      <td>1995.00</td>\n",
       "      <td>0.00</td>\n",
       "      <td>0.00</td>\n",
       "    </tr>\n",
       "    <tr>\n",
       "      <td>50%</td>\n",
       "      <td>0.38</td>\n",
       "      <td>0.00</td>\n",
       "      <td>0.00</td>\n",
       "      <td>99.00</td>\n",
       "      <td>38.00</td>\n",
       "      <td>6.00</td>\n",
       "      <td>2006.00</td>\n",
       "      <td>0.00</td>\n",
       "      <td>0.00</td>\n",
       "    </tr>\n",
       "    <tr>\n",
       "      <td>75%</td>\n",
       "      <td>0.72</td>\n",
       "      <td>15000000.00</td>\n",
       "      <td>24141183.50</td>\n",
       "      <td>111.00</td>\n",
       "      <td>146.00</td>\n",
       "      <td>6.60</td>\n",
       "      <td>2011.00</td>\n",
       "      <td>33733300.25</td>\n",
       "      <td>33878383.70</td>\n",
       "    </tr>\n",
       "    <tr>\n",
       "      <td>max</td>\n",
       "      <td>32.99</td>\n",
       "      <td>425000000.00</td>\n",
       "      <td>2781505847.00</td>\n",
       "      <td>900.00</td>\n",
       "      <td>9767.00</td>\n",
       "      <td>9.20</td>\n",
       "      <td>2015.00</td>\n",
       "      <td>1907005841.00</td>\n",
       "      <td>2827123750.41</td>\n",
       "    </tr>\n",
       "  </tbody>\n",
       "</table>\n",
       "</div>"
      ],
      "text/plain": [
       "       popularity       budget       revenue  runtime  vote_count  \\\n",
       "count    10842.00     10842.00      10842.00 10842.00    10842.00   \n",
       "mean         0.65  14655309.27   39911384.05   102.14      217.82   \n",
       "std          1.00  30939713.61  117117936.32    31.29      576.18   \n",
       "min          0.00         0.00          0.00     0.00       10.00   \n",
       "25%          0.21         0.00          0.00    90.00       17.00   \n",
       "50%          0.38         0.00          0.00    99.00       38.00   \n",
       "75%          0.72  15000000.00   24141183.50   111.00      146.00   \n",
       "max         32.99 425000000.00 2781505847.00   900.00     9767.00   \n",
       "\n",
       "       vote_average  release_year     budget_adj   revenue_adj  \n",
       "count      10842.00      10842.00       10842.00      10842.00  \n",
       "mean           5.97       2001.31    49736552.35   51477974.92  \n",
       "std            0.93         12.81   142719893.49  144772307.64  \n",
       "min            1.50       1960.00 -2147483648.00          0.00  \n",
       "25%            5.40       1995.00           0.00          0.00  \n",
       "50%            6.00       2006.00           0.00          0.00  \n",
       "75%            6.60       2011.00    33733300.25   33878383.70  \n",
       "max            9.20       2015.00  1907005841.00 2827123750.41  "
      ]
     },
     "execution_count": 14,
     "metadata": {},
     "output_type": "execute_result"
    }
   ],
   "source": [
    "df_tmbd.describe()"
   ]
  },
  {
   "cell_type": "markdown",
   "metadata": {},
   "source": [
    "We noticed that the minimum value of budget and revenue is zero, which indicated that those missing are replaced with zero in these two columns. To remove these missing values, we will replace all zero with the mean of the column in budget and revenue."
   ]
  },
  {
   "cell_type": "markdown",
   "metadata": {},
   "source": [
    "**Replacing zero with mean of the existing values of budget and revenue column**"
   ]
  },
  {
   "cell_type": "code",
   "execution_count": 15,
   "metadata": {},
   "outputs": [],
   "source": [
    "df_tmbd['budget'].replace({0: df_tmbd['budget'].mean()}, inplace=True)\n",
    "df_tmbd['revenue'].replace({0: df_tmbd['revenue'].mean()}, inplace=True)"
   ]
  },
  {
   "cell_type": "code",
   "execution_count": 16,
   "metadata": {},
   "outputs": [
    {
     "data": {
      "text/plain": [
       "popularity      10791\n",
       "budget            557\n",
       "revenue          4702\n",
       "runtime           246\n",
       "genres           2039\n",
       "release_date     5904\n",
       "vote_count       1289\n",
       "vote_average       72\n",
       "release_year       56\n",
       "budget_adj       4828\n",
       "revenue_adj      4840\n",
       "dtype: int64"
      ]
     },
     "execution_count": 16,
     "metadata": {},
     "output_type": "execute_result"
    }
   ],
   "source": [
    "# Number of unique values\n",
    "df_tmbd.nunique()"
   ]
  },
  {
   "cell_type": "code",
   "execution_count": 17,
   "metadata": {},
   "outputs": [
    {
     "data": {
      "text/html": [
       "<div>\n",
       "<style scoped>\n",
       "    .dataframe tbody tr th:only-of-type {\n",
       "        vertical-align: middle;\n",
       "    }\n",
       "\n",
       "    .dataframe tbody tr th {\n",
       "        vertical-align: top;\n",
       "    }\n",
       "\n",
       "    .dataframe thead th {\n",
       "        text-align: right;\n",
       "    }\n",
       "</style>\n",
       "<table border=\"1\" class=\"dataframe\">\n",
       "  <thead>\n",
       "    <tr style=\"text-align: right;\">\n",
       "      <th></th>\n",
       "      <th>popularity</th>\n",
       "      <th>budget</th>\n",
       "      <th>revenue</th>\n",
       "      <th>runtime</th>\n",
       "      <th>genres</th>\n",
       "      <th>release_date</th>\n",
       "      <th>vote_count</th>\n",
       "      <th>vote_average</th>\n",
       "      <th>release_year</th>\n",
       "      <th>budget_adj</th>\n",
       "      <th>revenue_adj</th>\n",
       "    </tr>\n",
       "  </thead>\n",
       "  <tbody>\n",
       "    <tr>\n",
       "      <td>0</td>\n",
       "      <td>32.99</td>\n",
       "      <td>150000000.00</td>\n",
       "      <td>1513528810.00</td>\n",
       "      <td>124</td>\n",
       "      <td>Action|Adventure|Science Fiction|Thriller</td>\n",
       "      <td>2015-06-09</td>\n",
       "      <td>5562</td>\n",
       "      <td>6.50</td>\n",
       "      <td>2015</td>\n",
       "      <td>1392445892</td>\n",
       "      <td>1392445892.52</td>\n",
       "    </tr>\n",
       "    <tr>\n",
       "      <td>1</td>\n",
       "      <td>28.42</td>\n",
       "      <td>150000000.00</td>\n",
       "      <td>378436354.00</td>\n",
       "      <td>120</td>\n",
       "      <td>Action|Adventure|Science Fiction|Thriller</td>\n",
       "      <td>2015-05-13</td>\n",
       "      <td>6185</td>\n",
       "      <td>7.10</td>\n",
       "      <td>2015</td>\n",
       "      <td>348161292</td>\n",
       "      <td>348161292.49</td>\n",
       "    </tr>\n",
       "    <tr>\n",
       "      <td>2</td>\n",
       "      <td>13.11</td>\n",
       "      <td>110000000.00</td>\n",
       "      <td>295238201.00</td>\n",
       "      <td>119</td>\n",
       "      <td>Adventure|Science Fiction|Thriller</td>\n",
       "      <td>2015-03-18</td>\n",
       "      <td>2480</td>\n",
       "      <td>6.30</td>\n",
       "      <td>2015</td>\n",
       "      <td>271619025</td>\n",
       "      <td>271619025.41</td>\n",
       "    </tr>\n",
       "    <tr>\n",
       "      <td>3</td>\n",
       "      <td>11.17</td>\n",
       "      <td>200000000.00</td>\n",
       "      <td>2068178225.00</td>\n",
       "      <td>136</td>\n",
       "      <td>Action|Adventure|Science Fiction|Fantasy</td>\n",
       "      <td>2015-12-15</td>\n",
       "      <td>5292</td>\n",
       "      <td>7.50</td>\n",
       "      <td>2015</td>\n",
       "      <td>1902723129</td>\n",
       "      <td>1902723129.80</td>\n",
       "    </tr>\n",
       "    <tr>\n",
       "      <td>4</td>\n",
       "      <td>9.34</td>\n",
       "      <td>190000000.00</td>\n",
       "      <td>1506249360.00</td>\n",
       "      <td>137</td>\n",
       "      <td>Action|Crime|Thriller</td>\n",
       "      <td>2015-04-01</td>\n",
       "      <td>2947</td>\n",
       "      <td>7.30</td>\n",
       "      <td>2015</td>\n",
       "      <td>1385748801</td>\n",
       "      <td>1385748801.47</td>\n",
       "    </tr>\n",
       "  </tbody>\n",
       "</table>\n",
       "</div>"
      ],
      "text/plain": [
       "   popularity       budget       revenue  runtime  \\\n",
       "0       32.99 150000000.00 1513528810.00      124   \n",
       "1       28.42 150000000.00  378436354.00      120   \n",
       "2       13.11 110000000.00  295238201.00      119   \n",
       "3       11.17 200000000.00 2068178225.00      136   \n",
       "4        9.34 190000000.00 1506249360.00      137   \n",
       "\n",
       "                                      genres release_date  vote_count  \\\n",
       "0  Action|Adventure|Science Fiction|Thriller   2015-06-09        5562   \n",
       "1  Action|Adventure|Science Fiction|Thriller   2015-05-13        6185   \n",
       "2         Adventure|Science Fiction|Thriller   2015-03-18        2480   \n",
       "3   Action|Adventure|Science Fiction|Fantasy   2015-12-15        5292   \n",
       "4                      Action|Crime|Thriller   2015-04-01        2947   \n",
       "\n",
       "   vote_average  release_year  budget_adj   revenue_adj  \n",
       "0          6.50          2015  1392445892 1392445892.52  \n",
       "1          7.10          2015   348161292  348161292.49  \n",
       "2          6.30          2015   271619025  271619025.41  \n",
       "3          7.50          2015  1902723129 1902723129.80  \n",
       "4          7.30          2015  1385748801 1385748801.47  "
      ]
     },
     "execution_count": 17,
     "metadata": {},
     "output_type": "execute_result"
    }
   ],
   "source": [
    "df_tmbd.head()"
   ]
  },
  {
   "cell_type": "markdown",
   "metadata": {},
   "source": [
    "**We see the __genres__ columns has multiple values. we will fix them and seperate them into single values**"
   ]
  },
  {
   "cell_type": "code",
   "execution_count": 18,
   "metadata": {},
   "outputs": [],
   "source": [
    "df_tmbd = (df_tmbd.drop('genres', axis=1).join(df_tmbd['genres']\n",
    "                                               .str.split('|', expand = True).stack().reset_index(level=1, drop=True)\n",
    "                                               .rename('genres')).loc[:,df_tmbd.columns])"
   ]
  },
  {
   "cell_type": "code",
   "execution_count": 19,
   "metadata": {},
   "outputs": [
    {
     "data": {
      "text/html": [
       "<div>\n",
       "<style scoped>\n",
       "    .dataframe tbody tr th:only-of-type {\n",
       "        vertical-align: middle;\n",
       "    }\n",
       "\n",
       "    .dataframe tbody tr th {\n",
       "        vertical-align: top;\n",
       "    }\n",
       "\n",
       "    .dataframe thead th {\n",
       "        text-align: right;\n",
       "    }\n",
       "</style>\n",
       "<table border=\"1\" class=\"dataframe\">\n",
       "  <thead>\n",
       "    <tr style=\"text-align: right;\">\n",
       "      <th></th>\n",
       "      <th>popularity</th>\n",
       "      <th>budget</th>\n",
       "      <th>revenue</th>\n",
       "      <th>runtime</th>\n",
       "      <th>genres</th>\n",
       "      <th>release_date</th>\n",
       "      <th>vote_count</th>\n",
       "      <th>vote_average</th>\n",
       "      <th>release_year</th>\n",
       "      <th>budget_adj</th>\n",
       "      <th>revenue_adj</th>\n",
       "    </tr>\n",
       "  </thead>\n",
       "  <tbody>\n",
       "    <tr>\n",
       "      <td>0</td>\n",
       "      <td>32.99</td>\n",
       "      <td>150000000.00</td>\n",
       "      <td>1513528810.00</td>\n",
       "      <td>124</td>\n",
       "      <td>Action</td>\n",
       "      <td>2015-06-09</td>\n",
       "      <td>5562</td>\n",
       "      <td>6.50</td>\n",
       "      <td>2015</td>\n",
       "      <td>1392445892</td>\n",
       "      <td>1392445892.52</td>\n",
       "    </tr>\n",
       "    <tr>\n",
       "      <td>0</td>\n",
       "      <td>32.99</td>\n",
       "      <td>150000000.00</td>\n",
       "      <td>1513528810.00</td>\n",
       "      <td>124</td>\n",
       "      <td>Adventure</td>\n",
       "      <td>2015-06-09</td>\n",
       "      <td>5562</td>\n",
       "      <td>6.50</td>\n",
       "      <td>2015</td>\n",
       "      <td>1392445892</td>\n",
       "      <td>1392445892.52</td>\n",
       "    </tr>\n",
       "    <tr>\n",
       "      <td>0</td>\n",
       "      <td>32.99</td>\n",
       "      <td>150000000.00</td>\n",
       "      <td>1513528810.00</td>\n",
       "      <td>124</td>\n",
       "      <td>Science Fiction</td>\n",
       "      <td>2015-06-09</td>\n",
       "      <td>5562</td>\n",
       "      <td>6.50</td>\n",
       "      <td>2015</td>\n",
       "      <td>1392445892</td>\n",
       "      <td>1392445892.52</td>\n",
       "    </tr>\n",
       "    <tr>\n",
       "      <td>0</td>\n",
       "      <td>32.99</td>\n",
       "      <td>150000000.00</td>\n",
       "      <td>1513528810.00</td>\n",
       "      <td>124</td>\n",
       "      <td>Thriller</td>\n",
       "      <td>2015-06-09</td>\n",
       "      <td>5562</td>\n",
       "      <td>6.50</td>\n",
       "      <td>2015</td>\n",
       "      <td>1392445892</td>\n",
       "      <td>1392445892.52</td>\n",
       "    </tr>\n",
       "    <tr>\n",
       "      <td>1</td>\n",
       "      <td>28.42</td>\n",
       "      <td>150000000.00</td>\n",
       "      <td>378436354.00</td>\n",
       "      <td>120</td>\n",
       "      <td>Action</td>\n",
       "      <td>2015-05-13</td>\n",
       "      <td>6185</td>\n",
       "      <td>7.10</td>\n",
       "      <td>2015</td>\n",
       "      <td>348161292</td>\n",
       "      <td>348161292.49</td>\n",
       "    </tr>\n",
       "  </tbody>\n",
       "</table>\n",
       "</div>"
      ],
      "text/plain": [
       "   popularity       budget       revenue  runtime           genres  \\\n",
       "0       32.99 150000000.00 1513528810.00      124           Action   \n",
       "0       32.99 150000000.00 1513528810.00      124        Adventure   \n",
       "0       32.99 150000000.00 1513528810.00      124  Science Fiction   \n",
       "0       32.99 150000000.00 1513528810.00      124         Thriller   \n",
       "1       28.42 150000000.00  378436354.00      120           Action   \n",
       "\n",
       "  release_date  vote_count  vote_average  release_year  budget_adj  \\\n",
       "0   2015-06-09        5562          6.50          2015  1392445892   \n",
       "0   2015-06-09        5562          6.50          2015  1392445892   \n",
       "0   2015-06-09        5562          6.50          2015  1392445892   \n",
       "0   2015-06-09        5562          6.50          2015  1392445892   \n",
       "1   2015-05-13        6185          7.10          2015   348161292   \n",
       "\n",
       "    revenue_adj  \n",
       "0 1392445892.52  \n",
       "0 1392445892.52  \n",
       "0 1392445892.52  \n",
       "0 1392445892.52  \n",
       "1  348161292.49  "
      ]
     },
     "execution_count": 19,
     "metadata": {},
     "output_type": "execute_result"
    }
   ],
   "source": [
    "df_tmbd.head()"
   ]
  },
  {
   "cell_type": "code",
   "execution_count": 20,
   "metadata": {},
   "outputs": [
    {
     "data": {
      "text/plain": [
       "(26955, 11)"
      ]
     },
     "execution_count": 20,
     "metadata": {},
     "output_type": "execute_result"
    }
   ],
   "source": [
    "df_tmbd.shape"
   ]
  },
  {
   "cell_type": "markdown",
   "metadata": {},
   "source": [
    "<a id='eda'></a>\n",
    "## Exploratory Data Analysis\n",
    "\n",
    "#### lets figure out if following trends\n",
    " - Average Revenue by genres Trend\n",
    " - Ratings Trends of genres\n",
    " - Highest Rated genres\n",
    " - budget and popularity correlation\n",
    " - budget and vote_average correlation"
   ]
  },
  {
   "cell_type": "markdown",
   "metadata": {},
   "source": [
    "**1. What is the Average Revenue Trend by genres? Which Genre has the most average revenue and which has least?**"
   ]
  },
  {
   "cell_type": "code",
   "execution_count": 21,
   "metadata": {},
   "outputs": [
    {
     "data": {
      "text/plain": [
       "genres\n",
       "Action             91612012.07\n",
       "Adventure         130176847.60\n",
       "Animation         101635260.27\n",
       "Comedy             58802492.68\n",
       "Crime              59494595.27\n",
       "Documentary        34123719.56\n",
       "Drama              50076730.67\n",
       "Family             95712115.24\n",
       "Fantasy           116138634.97\n",
       "Foreign            34850711.41\n",
       "History            53640417.51\n",
       "Horror             43056558.92\n",
       "Music              50288257.07\n",
       "Mystery            59926892.12\n",
       "Romance            55158097.14\n",
       "Science Fiction    91021778.49\n",
       "TV Movie           39923890.73\n",
       "Thriller           62102856.46\n",
       "War                67265235.44\n",
       "Western            52757426.89\n",
       "Name: revenue, dtype: float64"
      ]
     },
     "execution_count": 21,
     "metadata": {},
     "output_type": "execute_result"
    }
   ],
   "source": [
    "genres_revenue = df_tmbd.groupby('genres')['revenue'].mean()\n",
    "genres_revenue = genres_revenue\n",
    "genres_revenue"
   ]
  },
  {
   "cell_type": "code",
   "execution_count": 22,
   "metadata": {},
   "outputs": [
    {
     "data": {
      "text/plain": [
       "Text(0.5, 1.0, 'Average Revenue by genres')"
      ]
     },
     "execution_count": 22,
     "metadata": {},
     "output_type": "execute_result"
    },
    {
     "data": {
      "image/png": "[encoded data removed]",
      "text/plain": [
       "<Figure size 864x360 with 1 Axes>"
      ]
     },
     "metadata": {
      "needs_background": "light"
     },
     "output_type": "display_data"
    }
   ],
   "source": [
    "genres_revenue.sort_values(ascending = False).plot(kind='bar', figsize=(12,5));\n",
    "plt.xlabel('Genres')\n",
    "plt.ylabel('revenue in 10 million')\n",
    "plt.title('Average Revenue by genres')"
   ]
  },
  {
   "cell_type": "markdown",
   "metadata": {},
   "source": [
    ">As we can see in from the above bar graph that __Adventure__ has the highest average revenue while Documentary has lowes"
   ]
  },
  {
   "cell_type": "markdown",
   "metadata": {},
   "source": [
    "**2. What is the rating trends of Genres?**"
   ]
  },
  {
   "cell_type": "code",
   "execution_count": 23,
   "metadata": {},
   "outputs": [
    {
     "data": {
      "text/plain": [
       "genres\n",
       "Action            5.79\n",
       "Adventure         5.94\n",
       "Animation         6.40\n",
       "Comedy            5.91\n",
       "Crime             6.12\n",
       "Documentary       6.91\n",
       "Drama             6.17\n",
       "Family            6.00\n",
       "Fantasy           5.86\n",
       "Foreign           5.98\n",
       "History           6.41\n",
       "Horror            5.34\n",
       "Music             6.48\n",
       "Mystery           5.95\n",
       "Romance           6.04\n",
       "Science Fiction   5.67\n",
       "TV Movie          5.79\n",
       "Thriller          5.75\n",
       "War               6.30\n",
       "Western           6.08\n",
       "Name: vote_average, dtype: float64"
      ]
     },
     "execution_count": 23,
     "metadata": {},
     "output_type": "execute_result"
    }
   ],
   "source": [
    "genres_ratings = df_tmbd.groupby('genres')['vote_average'].mean()\n",
    "genres_ratings = genres_ratings\n",
    "genres_ratings"
   ]
  },
  {
   "cell_type": "code",
   "execution_count": 24,
   "metadata": {},
   "outputs": [
    {
     "data": {
      "text/plain": [
       "Text(0.5, 1.0, 'Rating Trends of Genres')"
      ]
     },
     "execution_count": 24,
     "metadata": {},
     "output_type": "execute_result"
    },
    {
     "data": {
      "image/png": "[encoded data removed]",
      "text/plain": [
       "<Figure size 720x360 with 1 Axes>"
      ]
     },
     "metadata": {
      "needs_background": "light"
     },
     "output_type": "display_data"
    }
   ],
   "source": [
    "genres_ratings.sort_values(ascending=False).plot(kind = 'bar', figsize = (10,5));\n",
    "plt.xlabel('Genres')\n",
    "plt.ylabel('Average Ratings')\n",
    "plt.title('Rating Trends of Genres')"
   ]
  },
  {
   "cell_type": "markdown",
   "metadata": {},
   "source": [
    "> We can see that the average rating trend for genres is 5 and 7. Documentary has the highest average ratings while Horror has the lowest"
   ]
  },
  {
   "cell_type": "markdown",
   "metadata": {},
   "source": [
    "**3. What are the highest budgeted genres**"
   ]
  },
  {
   "cell_type": "code",
   "execution_count": 25,
   "metadata": {},
   "outputs": [
    {
     "data": {
      "text/plain": [
       "genres\n",
       "Action            33604697.71\n",
       "Adventure         43172688.23\n",
       "Animation         32363902.88\n",
       "Comedy            21230251.48\n",
       "Crime             23411193.46\n",
       "Documentary       13428728.05\n",
       "Drama             19405418.58\n",
       "Family            31788223.66\n",
       "Fantasy           39140277.69\n",
       "Foreign           13378362.15\n",
       "History           25220523.19\n",
       "Horror            14033144.78\n",
       "Music             18023477.83\n",
       "Mystery           22813670.59\n",
       "Romance           19816124.76\n",
       "Science Fiction   31268858.96\n",
       "TV Movie          14133166.85\n",
       "Thriller          23590088.52\n",
       "War               27133962.27\n",
       "Western           27056733.09\n",
       "Name: budget, dtype: float64"
      ]
     },
     "execution_count": 25,
     "metadata": {},
     "output_type": "execute_result"
    }
   ],
   "source": [
    "genres_budget = df_tmbd.groupby('genres')['budget'].mean()\n",
    "genres_budget = genres_budget\n",
    "genres_budget"
   ]
  },
  {
   "cell_type": "code",
   "execution_count": 26,
   "metadata": {},
   "outputs": [
    {
     "data": {
      "text/plain": [
       "Text(0.5, 1.0, 'Genre By average Budget')"
      ]
     },
     "execution_count": 26,
     "metadata": {},
     "output_type": "execute_result"
    },
    {
     "data": {
      "image/png": "[encoded data removed]",
      "text/plain": [
       "<Figure size 720x360 with 1 Axes>"
      ]
     },
     "metadata": {
      "needs_background": "light"
     },
     "output_type": "display_data"
    }
   ],
   "source": [
    "genres_budget.sort_values(ascending = False).plot(kind='bar', figsize = (10,5));\n",
    "plt.xlabel('Genres')\n",
    "plt.ylabel('budget')\n",
    "plt.title('Genre By average Budget')"
   ]
  },
  {
   "cell_type": "markdown",
   "metadata": {},
   "source": [
    "> Adventure movies are of the highest budget while Foreign genre movies have lowest average budget."
   ]
  },
  {
   "cell_type": "code",
   "execution_count": 27,
   "metadata": {},
   "outputs": [
    {
     "data": {
      "image/png": "[encoded data removed]",
      "text/plain": [
       "<Figure size 576x360 with 1 Axes>"
      ]
     },
     "metadata": {
      "needs_background": "light"
     },
     "output_type": "display_data"
    }
   ],
   "source": [
    "genre_popularity = df_tmbd.groupby('genres')['popularity'].mean()\n",
    "genre_popularity = genre_popularity\n",
    "genre_popularity.sort_values(ascending=False).plot(kind='bar', figsize=(8,5));"
   ]
  },
  {
   "cell_type": "markdown",
   "metadata": {},
   "source": [
    "> Adventure movies are more popular"
   ]
  },
  {
   "cell_type": "code",
   "execution_count": 28,
   "metadata": {
    "scrolled": true
   },
   "outputs": [
    {
     "data": {
      "text/plain": [
       "Text(0.5, 1.0, 'Comparison of Budget and revenue')"
      ]
     },
     "execution_count": 28,
     "metadata": {},
     "output_type": "execute_result"
    },
    {
     "data": {
      "image/png": "[encoded data removed]",
      "text/plain": [
       "<Figure size 720x288 with 1 Axes>"
      ]
     },
     "metadata": {
      "needs_background": "light"
     },
     "output_type": "display_data"
    }
   ],
   "source": [
    "pd.concat([genres_budget,genres_revenue],axis=1).plot(kind='bar', figsize=(10,4));\n",
    "plt.xlabel('Genres')\n",
    "plt.title('Comparison of Budget and revenue')"
   ]
  },
  {
   "cell_type": "markdown",
   "metadata": {},
   "source": [
    "> We compared budget and revenue, and we can say that more budget will generate more revenues."
   ]
  },
  {
   "cell_type": "code",
   "execution_count": 29,
   "metadata": {},
   "outputs": [],
   "source": [
    "def scatter_plot(x,y,title):\n",
    "    df_tmbd.plot(x=x, y=y, kind='scatter',fontsize=8)\n",
    "    plt.title(title)"
   ]
  },
  {
   "cell_type": "code",
   "execution_count": 30,
   "metadata": {},
   "outputs": [
    {
     "data": {
      "image/png": "[encoded data removed]",
      "text/plain": [
       "<Figure size 432x288 with 1 Axes>"
      ]
     },
     "metadata": {
      "needs_background": "light"
     },
     "output_type": "display_data"
    }
   ],
   "source": [
    "scatter_plot(\"budget\",\"popularity\",\"budget and popularity correlation\")"
   ]
  },
  {
   "cell_type": "markdown",
   "metadata": {},
   "source": [
    "> we don't see any strong correlation between popularity and budget."
   ]
  },
  {
   "cell_type": "code",
   "execution_count": 31,
   "metadata": {},
   "outputs": [
    {
     "data": {
      "image/png": "[encoded data removed]",
      "text/plain": [
       "<Figure size 432x288 with 1 Axes>"
      ]
     },
     "metadata": {
      "needs_background": "light"
     },
     "output_type": "display_data"
    }
   ],
   "source": [
    "scatter_plot('budget','vote_average', 'Budget and vote_average correlation')"
   ]
  },
  {
   "cell_type": "markdown",
   "metadata": {},
   "source": [
    "> It is hard to say if budget and vote_average are correlation from the given scatter plot."
   ]
  },
  {
   "cell_type": "markdown",
   "metadata": {},
   "source": [
    "<a id='conclusions'></a>\n",
    "## Conclusions\n",
    "We have particularly focused on Genre trends while also tried to extract if any of the variables have a correlation. From the visualization, we can confidently say that Adventure movies generate the highest revenue while documentaries generate lowest, but it is interesting that documentaries have the highest average ratings. If we see the highest budgeted genres then that is adventure genres. We have also compared budget and revenue and visualized and saw that movies with more budget are likely to generate more revenue.\n",
    "\n",
    "We have alos checked the correlation between multiple columns. We compared popularity and budget and we cannot say that they are even correlated and same goes for budget and vote_average.\n",
    "\n",
    "## Limitations\n",
    "In this analysis we have seen more missing values for budget and revenue values. To accommodate those missing values we have used the mean of the existing values, which can affect the findings as those missing values may vary from the existing values but to extract the best findings possible, we need to replace the missing values with the mean."
   ]
  },
  {
   "cell_type": "code",
   "execution_count": 32,
   "metadata": {},
   "outputs": [
    {
     "data": {
      "text/plain": [
       "0"
      ]
     },
     "execution_count": 32,
     "metadata": {},
     "output_type": "execute_result"
    }
   ],
   "source": [
    "from subprocess import call\n",
    "call(['python', '-m', 'nbconvert', 'Investigate_a_Dataset.ipynb'])"
   ]
  }
 ],
 "metadata": {
  "kernelspec": {
   "display_name": "Python 3",
   "language": "python",
   "name": "python3"
  },
  "language_info": {
   "codemirror_mode": {
    "name": "ipython",
    "version": 3
   },
   "file_extension": ".py",
   "mimetype": "text/x-python",
   "name": "python",
   "nbconvert_exporter": "python",
   "pygments_lexer": "ipython3",
   "version": "3.7.7"
  }
 },
 "nbformat": 4,
 "nbformat_minor": 2
}
